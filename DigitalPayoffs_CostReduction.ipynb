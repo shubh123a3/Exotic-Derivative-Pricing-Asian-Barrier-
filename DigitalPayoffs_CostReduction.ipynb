{
 "cells": [
  {
   "cell_type": "code",
   "execution_count": 10,
   "id": "51fbeeb5-4490-498b-862e-3fecbbe73ce2",
   "metadata": {},
   "outputs": [],
   "source": [
    "import numpy as np\n",
    "S=np.array([])"
   ]
  },
  {
   "cell_type": "code",
   "execution_count": 11,
   "id": "766d3abb-b15b-4b31-a26c-cc838799962e",
   "metadata": {},
   "outputs": [
    {
     "data": {
      "text/plain": [
       "5"
      ]
     },
     "execution_count": 11,
     "metadata": {},
     "output_type": "execute_result"
    }
   ],
   "source": [
    "np.random.randint(5,8)"
   ]
  },
  {
   "cell_type": "code",
   "execution_count": 16,
   "id": "aef9cea5-b3ed-46fe-a476-5ff2e9ff2c3b",
   "metadata": {},
   "outputs": [
    {
     "ename": "NameError",
     "evalue": "name 'payoff' is not defined",
     "output_type": "error",
     "traceback": [
      "\u001B[1;31m---------------------------------------------------------------------------\u001B[0m",
      "\u001B[1;31mNameError\u001B[0m                                 Traceback (most recent call last)",
      "Cell \u001B[1;32mIn[16], line 4\u001B[0m\n\u001B[0;32m      2\u001B[0m S_T_grid \u001B[38;5;241m=\u001B[39m np\u001B[38;5;241m.\u001B[39mlinspace(\u001B[38;5;241m50\u001B[39m,\u001B[38;5;241m100\u001B[39m\u001B[38;5;241m*\u001B[39m\u001B[38;5;241m1.5\u001B[39m,\u001B[38;5;241m200\u001B[39m)\n\u001B[0;32m      3\u001B[0m plt\u001B[38;5;241m.\u001B[39mfigure(\u001B[38;5;241m1\u001B[39m)\n\u001B[1;32m----> 4\u001B[0m plt\u001B[38;5;241m.\u001B[39mplot(S_T_grid,payoff(S_T_grid))\n",
      "\u001B[1;31mNameError\u001B[0m: name 'payoff' is not defined"
     ]
    },
    {
     "data": {
      "text/plain": [
       "<Figure size 640x480 with 0 Axes>"
      ]
     },
     "metadata": {},
     "output_type": "display_data"
    }
   ],
   "source": [
    "import matplotlib.pyplot as plt\n",
    "S_T_grid = np.linspace(50,100*1.5,200)\n",
    "plt.figure(1)\n",
    "plt.plot(S_T_grid,payoff(S_T_grid))"
   ]
  },
  {
   "cell_type": "code",
   "execution_count": 17,
   "id": "7fac6607-0549-49fd-a66c-fc4fb8265bdd",
   "metadata": {},
   "outputs": [
    {
     "name": "stdout",
     "output_type": "stream",
     "text": [
      "Value of the contract at t0 =28.997779982668522\n",
      "Value of the barrier contract at t0 =2.674374151875379\n"
     ]
    },
    {
     "data": {
      "image/png": "[encoded data removed]",
      "text/plain": [
       "<Figure size 640x480 with 1 Axes>"
      ]
     },
     "metadata": {},
     "output_type": "display_data"
    }
   ],
   "source": [
    "#%%\n",
    "\"\"\"\n",
    "Created on Thu Jan 16 2019\n",
    "Pricing of Cash-or-Nothing options with the COS method\n",
    "@author: Lech A. Grzelak\n",
    "\"\"\"\n",
    "import numpy as np\n",
    "import matplotlib.pyplot as plt\n",
    "import scipy.stats as st\n",
    "import enum \n",
    "\n",
    "def DigitalPayoffValuation(S,T,r,payoff):\n",
    "    # S is a vector of Monte Carlo samples at T\n",
    "    return np.exp(-r*T) * np.mean(payoff(S))\n",
    "\n",
    "def GeneratePathsGBMEuler(NoOfPaths,NoOfSteps,T,r,sigma,S_0):    \n",
    "    Z = np.random.normal(0.0,1.0,[NoOfPaths,NoOfSteps])\n",
    "    W = np.zeros([NoOfPaths, NoOfSteps+1])\n",
    "   \n",
    "    # Euler Approximation\n",
    "    S1 = np.zeros([NoOfPaths, NoOfSteps+1])\n",
    "    S1[:,0] =S_0\n",
    "    \n",
    "    time = np.zeros([NoOfSteps+1])\n",
    "        \n",
    "    dt = T / float(NoOfSteps)\n",
    "    for i in range(0,NoOfSteps):\n",
    "        # making sure that samples from normal have mean 0 and variance 1\n",
    "        if NoOfPaths > 1:\n",
    "            Z[:,i] = (Z[:,i] - np.mean(Z[:,i])) / np.std(Z[:,i])\n",
    "        W[:,i+1] = W[:,i] + np.power(dt, 0.5)*Z[:,i]\n",
    "        \n",
    "        S1[:,i+1] = S1[:,i] + r * S1[:,i]* dt + sigma * S1[:,i] * (W[:,i+1] - W[:,i])\n",
    "        time[i+1] = time[i] +dt\n",
    "        \n",
    "    # Retun S1 and S2\n",
    "    paths = {\"time\":time,\"S\":S1}\n",
    "    return paths\n",
    "\n",
    "def UpAndOutBarrier(S,T,r,payoff,Su):\n",
    "        \n",
    "    # handling of a barrier\n",
    "    n1,n2 = S.shape\n",
    "    barrier= np.zeros([n1,n2]) + Su\n",
    "    \n",
    "    hitM = S > barrier\n",
    "    hitVec = np.sum(hitM, 1)\n",
    "    hitVec = (hitVec == 0.0).astype(int)\n",
    "    \n",
    "    V_0 = np.exp(-r*T) * np.mean(payoff(S[:,-1]*hitVec))\n",
    "\n",
    "    \n",
    "    return V_0\n",
    "\n",
    "def mainCalculation():\n",
    "    NoOfPaths = 10000\n",
    "    NoOfSteps = 250\n",
    "   \n",
    "    S0    = 100.0\n",
    "    r     = 0.05\n",
    "    T    = 5\n",
    "    sigma = 0.2\n",
    "    Su = 150\n",
    "    \n",
    "    paths = GeneratePathsGBMEuler(NoOfPaths,NoOfSteps,T,r,sigma,S0)\n",
    "    S_paths= paths[\"S\"]\n",
    "    S_T = S_paths[:,-1]\n",
    "    \n",
    "    # Payoff setting    \n",
    "    K  = 100.0\n",
    "    K2 = 140.0\n",
    "    \n",
    "    # Payoff specification\n",
    "    payoff = lambda S: np.maximum(S-K,0.0)# - np.maximum(S-K2,0)\n",
    "    \n",
    "    #Plot\n",
    "    S_T_grid = np.linspace(50,S0*1.5,200)\n",
    "    \n",
    "    plt.figure(1)\n",
    "    plt.plot(S_T_grid,payoff(S_T_grid))\n",
    "    \n",
    "    # Valuation\n",
    "    val_t0 = DigitalPayoffValuation(S_T,T,r,payoff)\n",
    "    print(\"Value of the contract at t0 ={0}\".format(val_t0))\n",
    "    \n",
    "    # barrier pricing\n",
    "    barrier_price = UpAndOutBarrier(S_paths,T,r,payoff,Su)\n",
    "\n",
    "    print(\"Value of the barrier contract at t0 ={0}\".format(barrier_price))\n",
    "           \n",
    "        \n",
    "mainCalculation()"
   ]
  },
  {
   "cell_type": "code",
   "execution_count": null,
   "id": "029b4e22-0bf5-4372-aa5a-5f0251af7c05",
   "metadata": {},
   "outputs": [],
   "source": []
  }
 ],
 "metadata": {
  "kernelspec": {
   "display_name": "Python 3 (ipykernel)",
   "language": "python",
   "name": "python3"
  },
  "language_info": {
   "codemirror_mode": {
    "name": "ipython",
    "version": 3
   },
   "file_extension": ".py",
   "mimetype": "text/x-python",
   "name": "python",
   "nbconvert_exporter": "python",
   "pygments_lexer": "ipython3",
   "version": "3.11.7"
  }
 },
 "nbformat": 4,
 "nbformat_minor": 5
}
